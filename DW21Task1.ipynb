{
  "nbformat": 4,
  "nbformat_minor": 0,
  "metadata": {
    "colab": {
      "name": "DW21Task1.ipynb",
      "provenance": [],
      "authorship_tag": "ABX9TyPNCQnFmYxVva0npItlWmr6",
      "include_colab_link": true
    },
    "kernelspec": {
      "name": "python3",
      "display_name": "Python 3"
    },
    "language_info": {
      "name": "python"
    }
  },
  "cells": [
    {
      "cell_type": "markdown",
      "metadata": {
        "id": "view-in-github",
        "colab_type": "text"
      },
      "source": [
        "<a href=\"https://colab.research.google.com/github/NikhithaVarma/Guvi-Task/blob/main/DW21Task1.ipynb\" target=\"_parent\"><img src=\"https://colab.research.google.com/assets/colab-badge.svg\" alt=\"Open In Colab\"/></a>"
      ]
    },
    {
      "cell_type": "code",
      "source": [
        "##make a directory(database file)\n",
        "!mkdir DB\n"
      ],
      "metadata": {
        "id": "ElHEgmjA8rV4"
      },
      "execution_count": 1,
      "outputs": []
    },
    {
      "cell_type": "code",
      "source": [
        "file1=open(\"DB/database.txt\",\"w\")\n"
      ],
      "metadata": {
        "id": "uRJwWf5MJX9N"
      },
      "execution_count": 2,
      "outputs": []
    },
    {
      "cell_type": "code",
      "execution_count": 20,
      "metadata": {
        "id": "XDiMqZmG6E_h",
        "colab": {
          "base_uri": "https://localhost:8080/"
        },
        "outputId": "ad95b5c9-0029-427d-fd31-087db6840ad6"
      },
      "outputs": [
        {
          "output_type": "stream",
          "name": "stdout",
          "text": [
            "Registration/Login : Registration\n",
            "Create username/email: nias123@jsdh.com\n",
            "Create password: adbS2@2\n",
            "Registration success\n"
          ]
        }
      ],
      "source": [
        "\n",
        "### Register and login\n",
        "import re\n",
        "\n",
        "def main():\n",
        "  a=input(\"Registration/Login : \")\n",
        "  if a==\"Registration\":\n",
        "    register()\n",
        "  elif a==\"Login\":\n",
        "    login()\n",
        "  else:\n",
        "    print(\"error\")\n",
        "\n",
        "\n",
        "def register():\n",
        "  #db=open(\"DB/database.txt\",\"r\")\n",
        "  regex = re.compile(r'(^[A-Za-zc0-9]+[.-_])*[A-Za-z0-9]+@[A-Za-z0-9-]+(\\.[A-Z|a-z]{2,})+')\n",
        "  regex1= re.compile(\"^(?=.*[a-z])(?=.*[A-Z])(?=.*\\d)(?=.*[@$!%*#?&])[A-Za-z\\d@$!#%*?&]{5,16}$\")\n",
        "  user=[]\n",
        "  pwd=[]\n",
        "  db=open(\"DB/database.txt\",\"r\")\n",
        "  for i in db:\n",
        "    a,b= i.split(\",\")\n",
        "    b=b.strip()\n",
        "    user.append(a)\n",
        "    pwd.append(b)\n",
        "  data=dict(zip(user,pwd))\n",
        "  email=input(\"Create username/email: \")\n",
        "  if re.fullmatch(regex, email):\n",
        "    if email in user:\n",
        "      print(\"User already exists\")\n",
        "    elif email[0].isdigit():\n",
        "      print(\"Email is not valid\")\n",
        "    else:\n",
        "      password=input(\"Create password: \")\n",
        "      if re.fullmatch(regex1, password):\n",
        "        print(\"Registration success\")\n",
        "        db=open(\"DB/database.txt\",\"a\")\n",
        "        db.write(email+\",\"+password+\"\\n\")\n",
        "      else:\n",
        "        print(\"Invalid password...please check it must have atleast one special character, one digit, one upeercase and one lowercase and length must be greater than 5\")\n",
        "\n",
        "  else:\n",
        "      print(\"Invalid email....please enter the correct email\")\n",
        "\n",
        "\n",
        "# function for accessing\n",
        "def login():\n",
        "  user=[]\n",
        "  pwd=[]\n",
        "  db=open(\"DB/database.txt\",\"r\")\n",
        "  for i in db:\n",
        "    a,b= i.split(\",\")\n",
        "    b=b.strip()\n",
        "    user.append(a)\n",
        "    pwd.append(b)\n",
        "    data=dict(zip(user,pwd))\n",
        "  email=input(\"Enter your username/email: \")\n",
        "  if len(email)>1:\n",
        "    if email in user:\n",
        "      password=input(\"Enter your password: \")\n",
        "      if password == data[email]:\n",
        "        print(\"Login successful\")\n",
        "        print(\"Welcome\",email)\n",
        "      else:\n",
        "        print(\"Incorrect password\")\n",
        "        fp=input(\"Did you your Forgot password? yes/no :\")\n",
        "        if fp==\"yes\":\n",
        "          input(\"Create your new password: \")\n",
        "        else:\n",
        "          print(\"Please enter the correct password\")\n",
        "    else:\n",
        "      print(\"Email doesn't exists....Please register\")\n",
        "      register()\n",
        "  else:\n",
        "    print(\"enter some value\")\n",
        "\n",
        "\n",
        "main()\n",
        "\n",
        "   \n",
        "\n",
        "  \n",
        "\n",
        "  "
      ]
    }
  ]
}